{
 "cells": [
  {
   "cell_type": "markdown",
   "metadata": {},
   "source": [
    "# Random Network Generation\n",
    "## Mohammad Ghoraishi - 99100788 \n",
    "\n",
    "---\n",
    "We want to generate a network with number of nodes N and average degree $\\lambda$. I'm using Julia for this purpose and the network creation function is written in t he RandomNetwork.jl file. I have not used any libraries for the purpose of generating the network and the network is stored in an adjacency list which is just an array where each node has a corresponding index and in each index of the array, another array is stored that shows which nodes is said node connected to. <br>\n",
    "Example: (_Example Source: Karnak Julia Docs_) <br>\n",
    "[[2, 5, 7],<br>\n",
    "[1, 3, 9],<br>\n",
    "[2, 4, 11],<br>\n",
    "[3, 5, 13],<br>\n",
    "[1, 4, 15],<br>\n",
    "[7, 15, 20],<br>\n",
    "[1, 6, 8],<br>\n",
    "[7, 9, 16],<br>\n",
    "[2, 8, 10],<br>\n",
    "[9, 11, 17],<br>\n",
    "[3, 10, 12],<br>\n",
    "[11, 13, 18],<br>\n",
    "[4, 12, 14],<br>\n",
    "[13, 15, 19],<br>\n",
    "[5, 6, 14],<br>\n",
    "[8, 17, 20],<br>\n",
    "[10, 16, 18],<br>\n",
    "[12, 17, 19],<br>\n",
    "[14, 18, 20],<br>\n",
    "[6, 16, 19]] <br>\n",
    "which generates the graph below: <br>\n",
    "![Alt text](<graph example.svg>) <br>\n",
    "\n",
    "---\n",
    "The function used to generate the graphs is called **GenerateNetwork** located in the _RandomNetwork.jl_ file. An explanation of said function is brought below: <br>\n",
    "    GenerateNetwork(lambda::Float64, N::Integer, UseTrueRandom::Bool)\n",
    "\n",
    "Generates a random network with average degree lambda and nodes N.\n",
    "\n",
    "### Arguments\n",
    "* `lambda` = the average degree of all nodes.\n",
    "* `N` = Number of nodes in the network.\n",
    "* `AlgorithmType` = if type 1 is selected, vertices will be generated with a probability and multiple vertices between the same nodes wouldn't exist. <br>\n",
    "                    if type 2 is selected, then an exact number of vertices will be generated and then they would be randomly distributed.\n",
    "\n"
   ]
  },
  {
   "cell_type": "code",
   "execution_count": null,
   "metadata": {},
   "outputs": [],
   "source": [
    "include(\"RandomNetwork.jl\")\n",
    "using .RandomNetwork\n",
    "using Karnak, Plots #I'm using karnak to draw the graphs which are stored in adjacency lists.\n",
    "\n",
    "#Initial parameters\n",
    "N = 10000"
   ]
  }
 ],
 "metadata": {
  "kernelspec": {
   "display_name": "Julia 1.9.2",
   "language": "julia",
   "name": "julia-1.9"
  },
  "language_info": {
   "file_extension": ".jl",
   "mimetype": "application/julia",
   "name": "julia",
   "version": "1.9.2"
  }
 },
 "nbformat": 4,
 "nbformat_minor": 2
}
