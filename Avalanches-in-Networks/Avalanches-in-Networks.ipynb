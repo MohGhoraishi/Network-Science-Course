{
 "cells": [
  {
   "cell_type": "markdown",
   "metadata": {},
   "source": [
    "# Problem 8.5 from Network Science book by Barabasi\n",
    "---\n",
    "Generate a random network with the Erdős-Rényi $G(N,p)$ model and a <br>\n",
    "scale-free network with the configuration model, with $N = 10^3$ nodes and<br>\n",
    "average degree 〈k〉 = 2. Assume that on each node there is a bucket which<br>\n",
    "can hold as many sand grains as the node degree. Simulate then the fol-<br>\n",
    "lowing process:<br><br>\n",
    "**(a)** At each time step add a grain to a randomly chosen node i.<br> <br>\n",
    "**(b)** If the number of grains at node i reaches or exceeds its bucket<br>\n",
    "size, then it becomes unstable and all the grains at the node top<br>\n",
    "ple to the buckets of its adjacent nodes.<br> <br>\n",
    "**(c)** If this toppling causes any of the adjacent nodes' buckets to be<br>\n",
    "unstable, subsequent topplings follow on those nodes, until there<br>\n",
    "is no unstable bucket left. We call this sequence of toppings an<br>\n",
    "avalanche, its size s being equal to the number of nodes that<br>\n",
    "turned unstable following an initial perturbation (adding one<br>\n",
    "grain).<br> <br>\n",
    "Repeat (a)-(c) $10^4$ times. Assume that at each time step a fraction $10^{–4}$<br>\n",
    "of sand grains is lost in the transfer, so that the network buckets do not<br>\n",
    "become saturated with sand. Study the avalanche distribution P(s)."
   ]
  },
  {
   "cell_type": "code",
   "execution_count": 10,
   "metadata": {},
   "outputs": [],
   "source": [
    "#initializations\n",
    "using Graphs\n",
    "using Plots\n",
    "using Colors\n",
    "using Statistics"
   ]
  },
  {
   "cell_type": "markdown",
   "metadata": {},
   "source": [
    "We create graph generators using the ER-G(n,p) and scalefree-configuration models from scratch but use the Graphs.jl library as a base."
   ]
  },
  {
   "cell_type": "code",
   "execution_count": null,
   "metadata": {},
   "outputs": [],
   "source": [
    "#Erdos-Renyi G(N,p) model.\n",
    "function Erdos_Renyi_Generator(N, lambda)\n",
    "    probability = lambda / (N - 1)\n",
    "    graph = SimpleGraph(N)\n",
    "    for i in 1:N-1\n",
    "        for j in i:N\n",
    "            if rand() <= probability\n",
    "                add_edge!(graph, i, j)\n",
    "            end\n",
    "        end\n",
    "    end\n",
    "    return graph\n",
    "end\n",
    "#Configuration Model (for <k> = 2, choose gamma = 2.09)\n",
    "function Configuration_Generator(N, gamma)\n",
    "    degree_Array = Int[]\n",
    "    Each_degree_count = []\n",
    "    for i in 1:N-1\n",
    "        push!(Each_degree_count, (i)^(-gamma))\n",
    "    end\n",
    "    normalizer = N / sum(Each_degree_count) \n",
    "    Each_degree_count = floor.(Int, Each_degree_count .* normalizer)\n",
    "    Each_degree_count[1] = Each_degree_count[1] + (N - sum(Each_degree_count))\n",
    "    for i in 1:N-1\n",
    "        counter = Each_degree_count[i]\n",
    "        if counter != 0\n",
    "            for j in 1:counter\n",
    "                push!(degree_Array, i)\n",
    "            end\n",
    "        end\n",
    "    end\n",
    "    graph = expected_degree_graph(degree_Array)\n",
    "    return graph\n",
    "end"
   ]
  },
  {
   "cell_type": "markdown",
   "metadata": {},
   "source": []
  }
 ],
 "metadata": {
  "kernelspec": {
   "display_name": "Julia 1.9.3",
   "language": "julia",
   "name": "julia-1.9"
  },
  "language_info": {
   "file_extension": ".jl",
   "mimetype": "application/julia",
   "name": "julia",
   "version": "1.9.3"
  }
 },
 "nbformat": 4,
 "nbformat_minor": 2
}
